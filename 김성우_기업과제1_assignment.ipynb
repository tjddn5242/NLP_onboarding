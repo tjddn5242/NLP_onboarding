{
  "nbformat": 4,
  "nbformat_minor": 0,
  "metadata": {
    "colab": {
      "name": "1_문자열_매칭.ipynb",
      "provenance": [],
      "collapsed_sections": []
    },
    "kernelspec": {
      "name": "python3",
      "display_name": "Python 3"
    },
    "language_info": {
      "name": "python"
    }
  },
  "cells": [
    {
      "cell_type": "code",
      "source": [
        "def KMPSearch(pat, txt):\n",
        "    M = len(pat)\n",
        "    N = len(txt)\n",
        "\n",
        "    lps = [0]*M\n",
        "\n",
        "    computeLPS(pat, lps)\n",
        "\n",
        "    i = 0  \n",
        "    j = 0  \n",
        "    while i < N:\n",
        "        if pat[j] == txt[i]:\n",
        "            i += 1\n",
        "            j += 1\n",
        "        elif pat[j] != txt[i]:\n",
        "            if j != 0:\n",
        "                j = lps[j-1]\n",
        "            else:\n",
        "                i += 1\n",
        "\n",
        "        if j == M:\n",
        "            list_.append(pat)\n",
        "            list_.append(i-j)\n",
        "            j = lps[j-1]\n",
        "\n",
        "def computeLPS(pat, lps):\n",
        "    leng = 0\n",
        "\n",
        "    i = 1\n",
        "    while i < len(pat):\n",
        "        if pat[i] == pat[leng]:\n",
        "            leng += 1\n",
        "            lps[i] = leng\n",
        "            i += 1\n",
        "        else:\n",
        "            if leng != 0:\n",
        "                leng = lps[leng-1]\n",
        "            else: \n",
        "                lps[i] = 0\n",
        "                i += 1\n"
      ],
      "metadata": {
        "id": "85v_6NwcT-XK"
      },
      "execution_count": 1,
      "outputs": []
    },
    {
      "cell_type": "code",
      "source": [
        "def question1(S, list_):\n",
        "    Q1=set()\n",
        "    for i in range(0,len(list_),2):\n",
        "        Q1.add(list_[i])\n",
        "    answer1=[]\n",
        "    for s in S:\n",
        "        if s in Q1:\n",
        "            answer1.append('YES')\n",
        "        else:\n",
        "            answer1.append('NO')\n",
        "    return answer1"
      ],
      "metadata": {
        "id": "K4E7T-flXzH2"
      },
      "execution_count": 2,
      "outputs": []
    },
    {
      "cell_type": "code",
      "source": [
        "def question2(S, list_):\n",
        "    answer2=dict()\n",
        "    rev_list_ = list(reversed(list_))\n",
        "    for i in range(1,len(list_),2):\n",
        "        answer2[rev_list_[i]]=rev_list_[i-1]\n",
        "\n",
        "    for j in list(reversed(list(answer2.keys()))):\n",
        "        print(f'#pos={answer2[j]},pattern={j}')"
      ],
      "metadata": {
        "id": "i8Cl3NMbeTre"
      },
      "execution_count": 3,
      "outputs": []
    },
    {
      "cell_type": "code",
      "source": [
        "def question3(S, list_):\n",
        "    for i in range(1,len(list_),2):\n",
        "        print(f'#pos={list_[i]},pattern={list_[i-1]}')"
      ],
      "metadata": {
        "id": "W5ZwC6W0h2X2"
      },
      "execution_count": 4,
      "outputs": []
    },
    {
      "cell_type": "code",
      "source": [
        "N = int(input('문자열 집합 S의 원소 개수: '))\n",
        "S = []\n",
        "for _ in range(N):\n",
        "    s = input()\n",
        "    S.append(s)\n",
        "\n",
        "print('\\n')\n",
        "\n",
        "Q = int(input('매칭 대상 문자열 수: '))\n",
        "\n",
        "for _ in range(Q):\n",
        "    q = input()\n",
        "    list_=[]\n",
        "    for s in S:\n",
        "        KMPSearch(s, q)\n",
        "\n",
        "    print('\\n[Question1]')\n",
        "    print(question1(S, list_))\n",
        "\n",
        "    print('\\n[Question2]')\n",
        "    question2(S, list_)\n",
        "\n",
        "    print('\\n[Question3]')\n",
        "    question3(S, list_)\n"
      ],
      "metadata": {
        "colab": {
          "base_uri": "https://localhost:8080/"
        },
        "id": "qPjHRHIwibfU",
        "outputId": "ce72abc2-bcae-4cf8-c41a-a384743f9803"
      },
      "execution_count": 5,
      "outputs": [
        {
          "output_type": "stream",
          "name": "stdout",
          "text": [
            "문자열 집합 S의 원소 개수: 9\n",
            "aaa\n",
            "aaaabb\n",
            "aabbcc\n",
            "abb\n",
            "bcc\n",
            "bbcc\n",
            "aabbccdd\n",
            "aaabb\n",
            "cccd\n",
            "\n",
            "\n",
            "매칭 대상 문자열 수: 1\n",
            "aaaabbaabbccdd\n",
            "\n",
            "[Question1]\n",
            "['YES', 'YES', 'YES', 'YES', 'YES', 'YES', 'YES', 'YES', 'NO']\n",
            "\n",
            "[Question2]\n",
            "#pos=0,pattern=aaa\n",
            "#pos=0,pattern=aaaabb\n",
            "#pos=6,pattern=aabbcc\n",
            "#pos=3,pattern=abb\n",
            "#pos=9,pattern=bcc\n",
            "#pos=8,pattern=bbcc\n",
            "#pos=6,pattern=aabbccdd\n",
            "#pos=1,pattern=aaabb\n",
            "\n",
            "[Question3]\n",
            "#pos=0,pattern=aaa\n",
            "#pos=1,pattern=aaa\n",
            "#pos=0,pattern=aaaabb\n",
            "#pos=6,pattern=aabbcc\n",
            "#pos=3,pattern=abb\n",
            "#pos=7,pattern=abb\n",
            "#pos=9,pattern=bcc\n",
            "#pos=8,pattern=bbcc\n",
            "#pos=6,pattern=aabbccdd\n",
            "#pos=1,pattern=aaabb\n"
          ]
        }
      ]
    }
  ]
}